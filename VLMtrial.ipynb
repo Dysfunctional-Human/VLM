{
 "cells": [
  {
   "cell_type": "code",
   "execution_count": 2,
   "metadata": {},
   "outputs": [
    {
     "name": "stdout",
     "output_type": "stream",
     "text": [
      "Requirement already satisfied: numpy==1.24.4 in c:\\users\\aarav\\anaconda3\\envs\\emotionalintelligence\\lib\\site-packages (1.24.4)\n",
      "Requirement already satisfied: Pillow==10.3.0 in c:\\users\\aarav\\anaconda3\\envs\\emotionalintelligence\\lib\\site-packages (10.3.0)\n",
      "Requirement already satisfied: Requests==2.31.0 in c:\\users\\aarav\\anaconda3\\envs\\emotionalintelligence\\lib\\site-packages (2.31.0)\n",
      "Requirement already satisfied: torch==2.3.0 in c:\\users\\aarav\\anaconda3\\envs\\emotionalintelligence\\lib\\site-packages (2.3.0+cu118)\n",
      "Requirement already satisfied: torchvision==0.18.0 in c:\\users\\aarav\\anaconda3\\envs\\emotionalintelligence\\lib\\site-packages (0.18.0)\n",
      "Requirement already satisfied: transformers==4.40.2 in c:\\users\\aarav\\anaconda3\\envs\\emotionalintelligence\\lib\\site-packages (4.40.2)\n",
      "Requirement already satisfied: charset-normalizer<4,>=2 in c:\\users\\aarav\\anaconda3\\envs\\emotionalintelligence\\lib\\site-packages (from Requests==2.31.0) (2.0.4)\n",
      "Requirement already satisfied: idna<4,>=2.5 in c:\\users\\aarav\\anaconda3\\envs\\emotionalintelligence\\lib\\site-packages (from Requests==2.31.0) (3.7)\n",
      "Requirement already satisfied: urllib3<3,>=1.21.1 in c:\\users\\aarav\\anaconda3\\envs\\emotionalintelligence\\lib\\site-packages (from Requests==2.31.0) (2.2.1)\n",
      "Requirement already satisfied: certifi>=2017.4.17 in c:\\users\\aarav\\anaconda3\\envs\\emotionalintelligence\\lib\\site-packages (from Requests==2.31.0) (2024.2.2)\n",
      "Requirement already satisfied: filelock in c:\\users\\aarav\\anaconda3\\envs\\emotionalintelligence\\lib\\site-packages (from torch==2.3.0) (3.14.0)\n",
      "Requirement already satisfied: typing-extensions>=4.8.0 in c:\\users\\aarav\\anaconda3\\envs\\emotionalintelligence\\lib\\site-packages (from torch==2.3.0) (4.11.0)\n",
      "Requirement already satisfied: sympy in c:\\users\\aarav\\anaconda3\\envs\\emotionalintelligence\\lib\\site-packages (from torch==2.3.0) (1.12.1)\n",
      "Requirement already satisfied: networkx in c:\\users\\aarav\\anaconda3\\envs\\emotionalintelligence\\lib\\site-packages (from torch==2.3.0) (3.3)\n",
      "Requirement already satisfied: jinja2 in c:\\users\\aarav\\anaconda3\\envs\\emotionalintelligence\\lib\\site-packages (from torch==2.3.0) (3.1.3)\n",
      "Requirement already satisfied: fsspec in c:\\users\\aarav\\anaconda3\\envs\\emotionalintelligence\\lib\\site-packages (from torch==2.3.0) (2024.5.0)\n",
      "Requirement already satisfied: mkl<=2021.4.0,>=2021.1.1 in c:\\users\\aarav\\anaconda3\\envs\\emotionalintelligence\\lib\\site-packages (from torch==2.3.0) (2021.4.0)\n",
      "Requirement already satisfied: huggingface-hub<1.0,>=0.19.3 in c:\\users\\aarav\\anaconda3\\envs\\emotionalintelligence\\lib\\site-packages (from transformers==4.40.2) (0.23.2)\n",
      "Requirement already satisfied: packaging>=20.0 in c:\\users\\aarav\\anaconda3\\envs\\emotionalintelligence\\lib\\site-packages (from transformers==4.40.2) (23.2)\n",
      "Requirement already satisfied: pyyaml>=5.1 in c:\\users\\aarav\\anaconda3\\envs\\emotionalintelligence\\lib\\site-packages (from transformers==4.40.2) (6.0.1)\n",
      "Requirement already satisfied: regex!=2019.12.17 in c:\\users\\aarav\\anaconda3\\envs\\emotionalintelligence\\lib\\site-packages (from transformers==4.40.2) (2024.5.15)\n",
      "Requirement already satisfied: tokenizers<0.20,>=0.19 in c:\\users\\aarav\\anaconda3\\envs\\emotionalintelligence\\lib\\site-packages (from transformers==4.40.2) (0.19.1)\n",
      "Requirement already satisfied: safetensors>=0.4.1 in c:\\users\\aarav\\anaconda3\\envs\\emotionalintelligence\\lib\\site-packages (from transformers==4.40.2) (0.4.5)\n",
      "Requirement already satisfied: tqdm>=4.27 in c:\\users\\aarav\\anaconda3\\envs\\emotionalintelligence\\lib\\site-packages (from transformers==4.40.2) (4.66.4)\n",
      "Requirement already satisfied: intel-openmp==2021.* in c:\\users\\aarav\\anaconda3\\envs\\emotionalintelligence\\lib\\site-packages (from mkl<=2021.4.0,>=2021.1.1->torch==2.3.0) (2021.4.0)\n",
      "Requirement already satisfied: tbb==2021.* in c:\\users\\aarav\\anaconda3\\envs\\emotionalintelligence\\lib\\site-packages (from mkl<=2021.4.0,>=2021.1.1->torch==2.3.0) (2021.13.1)\n",
      "Requirement already satisfied: colorama in c:\\users\\aarav\\anaconda3\\envs\\emotionalintelligence\\lib\\site-packages (from tqdm>=4.27->transformers==4.40.2) (0.4.6)\n",
      "Requirement already satisfied: MarkupSafe>=2.0 in c:\\users\\aarav\\anaconda3\\envs\\emotionalintelligence\\lib\\site-packages (from jinja2->torch==2.3.0) (2.1.3)\n",
      "Requirement already satisfied: mpmath<1.4.0,>=1.1.0 in c:\\users\\aarav\\anaconda3\\envs\\emotionalintelligence\\lib\\site-packages (from sympy->torch==2.3.0) (1.3.0)\n",
      "Note: you may need to restart the kernel to use updated packages.\n"
     ]
    }
   ],
   "source": [
    "%pip install numpy==1.24.4 Pillow==10.3.0 Requests==2.31.0 torch==2.3.0 torchvision==0.18.0 transformers==4.40.2"
   ]
  },
  {
   "cell_type": "code",
   "execution_count": 3,
   "metadata": {},
   "outputs": [
    {
     "name": "stdout",
     "output_type": "stream",
     "text": [
      "cuda:0\n"
     ]
    }
   ],
   "source": [
    "from torch import cuda\n",
    "\n",
    "device = f'cuda:{cuda.current_device()}' if cuda.is_available() else 'cpu'\n",
    "print(device)"
   ]
  },
  {
   "cell_type": "code",
   "execution_count": 4,
   "metadata": {},
   "outputs": [],
   "source": [
    "#%pip install torch torchvision torchaudio --index-url https://download.pytorch.org/whl/cu118"
   ]
  },
  {
   "cell_type": "code",
   "execution_count": 5,
   "metadata": {},
   "outputs": [
    {
     "name": "stdout",
     "output_type": "stream",
     "text": [
      "CUDA available: True\n",
      "Number of GPUs: 1\n",
      "Current GPU: 0\n",
      "Device Name: NVIDIA GeForce GTX 1650\n"
     ]
    }
   ],
   "source": [
    "import torch\n",
    "\n",
    "print(\"CUDA available:\", torch.cuda.is_available())\n",
    "print(\"Number of GPUs:\", torch.cuda.device_count())\n",
    "print(\"Current GPU:\", torch.cuda.current_device())\n",
    "print(\"Device Name:\", torch.cuda.get_device_name(torch.cuda.current_device()) if torch.cuda.is_available() else \"No GPU\")"
   ]
  },
  {
   "cell_type": "code",
   "execution_count": 6,
   "metadata": {},
   "outputs": [
    {
     "name": "stdout",
     "output_type": "stream",
     "text": [
      "Requirement already satisfied: accelerate in c:\\users\\aarav\\anaconda3\\envs\\emotionalintelligence\\lib\\site-packages (0.34.2)\n",
      "Requirement already satisfied: numpy<3.0.0,>=1.17 in c:\\users\\aarav\\anaconda3\\envs\\emotionalintelligence\\lib\\site-packages (from accelerate) (1.24.4)\n",
      "Requirement already satisfied: packaging>=20.0 in c:\\users\\aarav\\anaconda3\\envs\\emotionalintelligence\\lib\\site-packages (from accelerate) (23.2)\n",
      "Requirement already satisfied: psutil in c:\\users\\aarav\\anaconda3\\envs\\emotionalintelligence\\lib\\site-packages (from accelerate) (5.9.0)\n",
      "Requirement already satisfied: pyyaml in c:\\users\\aarav\\anaconda3\\envs\\emotionalintelligence\\lib\\site-packages (from accelerate) (6.0.1)\n",
      "Requirement already satisfied: torch>=1.10.0 in c:\\users\\aarav\\anaconda3\\envs\\emotionalintelligence\\lib\\site-packages (from accelerate) (2.3.0+cu118)\n",
      "Requirement already satisfied: huggingface-hub>=0.21.0 in c:\\users\\aarav\\anaconda3\\envs\\emotionalintelligence\\lib\\site-packages (from accelerate) (0.23.2)\n",
      "Requirement already satisfied: safetensors>=0.4.3 in c:\\users\\aarav\\anaconda3\\envs\\emotionalintelligence\\lib\\site-packages (from accelerate) (0.4.5)\n",
      "Requirement already satisfied: filelock in c:\\users\\aarav\\anaconda3\\envs\\emotionalintelligence\\lib\\site-packages (from huggingface-hub>=0.21.0->accelerate) (3.14.0)\n",
      "Requirement already satisfied: fsspec>=2023.5.0 in c:\\users\\aarav\\anaconda3\\envs\\emotionalintelligence\\lib\\site-packages (from huggingface-hub>=0.21.0->accelerate) (2024.5.0)\n",
      "Requirement already satisfied: requests in c:\\users\\aarav\\anaconda3\\envs\\emotionalintelligence\\lib\\site-packages (from huggingface-hub>=0.21.0->accelerate) (2.31.0)\n",
      "Requirement already satisfied: tqdm>=4.42.1 in c:\\users\\aarav\\anaconda3\\envs\\emotionalintelligence\\lib\\site-packages (from huggingface-hub>=0.21.0->accelerate) (4.66.4)\n",
      "Requirement already satisfied: typing-extensions>=3.7.4.3 in c:\\users\\aarav\\anaconda3\\envs\\emotionalintelligence\\lib\\site-packages (from huggingface-hub>=0.21.0->accelerate) (4.11.0)\n",
      "Requirement already satisfied: sympy in c:\\users\\aarav\\anaconda3\\envs\\emotionalintelligence\\lib\\site-packages (from torch>=1.10.0->accelerate) (1.12.1)\n",
      "Requirement already satisfied: networkx in c:\\users\\aarav\\anaconda3\\envs\\emotionalintelligence\\lib\\site-packages (from torch>=1.10.0->accelerate) (3.3)\n",
      "Requirement already satisfied: jinja2 in c:\\users\\aarav\\anaconda3\\envs\\emotionalintelligence\\lib\\site-packages (from torch>=1.10.0->accelerate) (3.1.3)\n",
      "Requirement already satisfied: mkl<=2021.4.0,>=2021.1.1 in c:\\users\\aarav\\anaconda3\\envs\\emotionalintelligence\\lib\\site-packages (from torch>=1.10.0->accelerate) (2021.4.0)\n",
      "Requirement already satisfied: intel-openmp==2021.* in c:\\users\\aarav\\anaconda3\\envs\\emotionalintelligence\\lib\\site-packages (from mkl<=2021.4.0,>=2021.1.1->torch>=1.10.0->accelerate) (2021.4.0)\n",
      "Requirement already satisfied: tbb==2021.* in c:\\users\\aarav\\anaconda3\\envs\\emotionalintelligence\\lib\\site-packages (from mkl<=2021.4.0,>=2021.1.1->torch>=1.10.0->accelerate) (2021.13.1)\n",
      "Requirement already satisfied: colorama in c:\\users\\aarav\\anaconda3\\envs\\emotionalintelligence\\lib\\site-packages (from tqdm>=4.42.1->huggingface-hub>=0.21.0->accelerate) (0.4.6)\n",
      "Requirement already satisfied: MarkupSafe>=2.0 in c:\\users\\aarav\\anaconda3\\envs\\emotionalintelligence\\lib\\site-packages (from jinja2->torch>=1.10.0->accelerate) (2.1.3)\n",
      "Requirement already satisfied: charset-normalizer<4,>=2 in c:\\users\\aarav\\anaconda3\\envs\\emotionalintelligence\\lib\\site-packages (from requests->huggingface-hub>=0.21.0->accelerate) (2.0.4)\n",
      "Requirement already satisfied: idna<4,>=2.5 in c:\\users\\aarav\\anaconda3\\envs\\emotionalintelligence\\lib\\site-packages (from requests->huggingface-hub>=0.21.0->accelerate) (3.7)\n",
      "Requirement already satisfied: urllib3<3,>=1.21.1 in c:\\users\\aarav\\anaconda3\\envs\\emotionalintelligence\\lib\\site-packages (from requests->huggingface-hub>=0.21.0->accelerate) (2.2.1)\n",
      "Requirement already satisfied: certifi>=2017.4.17 in c:\\users\\aarav\\anaconda3\\envs\\emotionalintelligence\\lib\\site-packages (from requests->huggingface-hub>=0.21.0->accelerate) (2024.2.2)\n",
      "Requirement already satisfied: mpmath<1.4.0,>=1.1.0 in c:\\users\\aarav\\anaconda3\\envs\\emotionalintelligence\\lib\\site-packages (from sympy->torch>=1.10.0->accelerate) (1.3.0)\n",
      "Note: you may need to restart the kernel to use updated packages.\n"
     ]
    }
   ],
   "source": [
    "%pip install accelerate"
   ]
  },
  {
   "cell_type": "code",
   "execution_count": 7,
   "metadata": {},
   "outputs": [
    {
     "name": "stderr",
     "output_type": "stream",
     "text": [
      "c:\\Users\\aarav\\anaconda3\\envs\\EmotionalIntelligence\\Lib\\site-packages\\tqdm\\auto.py:21: TqdmWarning: IProgress not found. Please update jupyter and ipywidgets. See https://ipywidgets.readthedocs.io/en/stable/user_install.html\n",
      "  from .autonotebook import tqdm as notebook_tqdm\n",
      "c:\\Users\\aarav\\anaconda3\\envs\\EmotionalIntelligence\\Lib\\site-packages\\huggingface_hub\\file_download.py:1132: FutureWarning: `resume_download` is deprecated and will be removed in version 1.0.0. Downloads always resume when possible. If you want to force a new download, use `force_download=True`.\n",
      "  warnings.warn(\n",
      "c:\\Users\\aarav\\anaconda3\\envs\\EmotionalIntelligence\\Lib\\site-packages\\huggingface_hub\\file_download.py:157: UserWarning: `huggingface_hub` cache-system uses symlinks by default to efficiently store duplicated files but your machine does not support them in C:\\Users\\aarav\\.cache\\huggingface\\hub\\models--microsoft--Phi-3-vision-128k-instruct. Caching files will still work but in a degraded version that might require more space on your disk. This warning can be disabled by setting the `HF_HUB_DISABLE_SYMLINKS_WARNING` environment variable. For more details, see https://huggingface.co/docs/huggingface_hub/how-to-cache#limitations.\n",
      "To support symlinks on Windows, you either need to activate Developer Mode or to run Python as an administrator. In order to see activate developer mode, see this article: https://docs.microsoft.com/en-us/windows/apps/get-started/enable-your-device-for-development\n",
      "  warnings.warn(message)\n",
      "A new version of the following files was downloaded from https://huggingface.co/microsoft/Phi-3-vision-128k-instruct:\n",
      "- configuration_phi3_v.py\n",
      ". Make sure to double-check they do not contain any added malicious code. To avoid downloading new versions of the code file, you can pin a revision.\n",
      "A new version of the following files was downloaded from https://huggingface.co/microsoft/Phi-3-vision-128k-instruct:\n",
      "- image_embedding_phi3_v.py\n",
      ". Make sure to double-check they do not contain any added malicious code. To avoid downloading new versions of the code file, you can pin a revision.\n",
      "A new version of the following files was downloaded from https://huggingface.co/microsoft/Phi-3-vision-128k-instruct:\n",
      "- modeling_phi3_v.py\n",
      "- image_embedding_phi3_v.py\n",
      ". Make sure to double-check they do not contain any added malicious code. To avoid downloading new versions of the code file, you can pin a revision.\n",
      "c:\\Users\\aarav\\anaconda3\\envs\\EmotionalIntelligence\\Lib\\site-packages\\huggingface_hub\\file_download.py:1132: FutureWarning: `resume_download` is deprecated and will be removed in version 1.0.0. Downloads always resume when possible. If you want to force a new download, use `force_download=True`.\n",
      "  warnings.warn(\n",
      "Downloading shards: 100%|██████████| 2/2 [04:39<00:00, 139.84s/it]\n",
      "Loading checkpoint shards: 100%|██████████| 2/2 [00:20<00:00, 10.18s/it]\n"
     ]
    }
   ],
   "source": [
    "from transformers import AutoModelForCausalLM\n",
    "\n",
    "model_id = \"microsoft/Phi-3-vision-128k-instruct\"\n",
    "\n",
    "model = AutoModelForCausalLM.from_pretrained(model_id,\n",
    "                                             device_map=\"cuda\",\n",
    "                                             trust_remote_code=True,\n",
    "                                             torch_dtype=\"auto\",\n",
    "                                             _attn_implementation=\"eager\")"
   ]
  },
  {
   "cell_type": "code",
   "execution_count": 8,
   "metadata": {},
   "outputs": [
    {
     "data": {
      "text/plain": [
       "Phi3VConfig {\n",
       "  \"_name_or_path\": \"microsoft/Phi-3-vision-128k-instruct\",\n",
       "  \"architectures\": [\n",
       "    \"Phi3VForCausalLM\"\n",
       "  ],\n",
       "  \"attention_dropout\": 0.0,\n",
       "  \"auto_map\": {\n",
       "    \"AutoConfig\": \"microsoft/Phi-3-vision-128k-instruct--configuration_phi3_v.Phi3VConfig\",\n",
       "    \"AutoModelForCausalLM\": \"microsoft/Phi-3-vision-128k-instruct--modeling_phi3_v.Phi3VForCausalLM\"\n",
       "  },\n",
       "  \"bos_token_id\": 1,\n",
       "  \"embd_layer\": {\n",
       "    \"embedding_cls\": \"image\",\n",
       "    \"hd_transform_order\": \"sub_glb\",\n",
       "    \"projection_cls\": \"mlp\",\n",
       "    \"use_hd_transform\": true,\n",
       "    \"with_learnable_separator\": true\n",
       "  },\n",
       "  \"embd_pdrop\": 0.0,\n",
       "  \"eos_token_id\": 2,\n",
       "  \"hidden_act\": \"silu\",\n",
       "  \"hidden_size\": 3072,\n",
       "  \"img_processor\": {\n",
       "    \"image_dim_out\": 1024,\n",
       "    \"model_name\": \"openai/clip-vit-large-patch14-336\",\n",
       "    \"name\": \"clip_vision_model\",\n",
       "    \"num_img_tokens\": 144\n",
       "  },\n",
       "  \"initializer_range\": 0.02,\n",
       "  \"intermediate_size\": 8192,\n",
       "  \"max_position_embeddings\": 131072,\n",
       "  \"model_type\": \"phi3_v\",\n",
       "  \"num_attention_heads\": 32,\n",
       "  \"num_hidden_layers\": 32,\n",
       "  \"num_key_value_heads\": 32,\n",
       "  \"original_max_position_embeddings\": 4096,\n",
       "  \"pad_token_id\": 32000,\n",
       "  \"resid_pdrop\": 0.0,\n",
       "  \"rms_norm_eps\": 1e-05,\n",
       "  \"rope_scaling\": {\n",
       "    \"long_factor\": [\n",
       "      1.0299999713897705,\n",
       "      1.0499999523162842,\n",
       "      1.0499999523162842,\n",
       "      1.0799999237060547,\n",
       "      1.2299998998641968,\n",
       "      1.2299998998641968,\n",
       "      1.2999999523162842,\n",
       "      1.4499999284744263,\n",
       "      1.5999999046325684,\n",
       "      1.6499998569488525,\n",
       "      1.8999998569488525,\n",
       "      2.859999895095825,\n",
       "      3.68999981880188,\n",
       "      5.419999599456787,\n",
       "      5.489999771118164,\n",
       "      5.489999771118164,\n",
       "      9.09000015258789,\n",
       "      11.579999923706055,\n",
       "      15.65999984741211,\n",
       "      15.769999504089355,\n",
       "      15.789999961853027,\n",
       "      18.360000610351562,\n",
       "      21.989999771118164,\n",
       "      23.079999923706055,\n",
       "      30.009998321533203,\n",
       "      32.35000228881836,\n",
       "      32.590003967285156,\n",
       "      35.56000518798828,\n",
       "      39.95000457763672,\n",
       "      53.840003967285156,\n",
       "      56.20000457763672,\n",
       "      57.95000457763672,\n",
       "      59.29000473022461,\n",
       "      59.77000427246094,\n",
       "      59.920005798339844,\n",
       "      61.190006256103516,\n",
       "      61.96000671386719,\n",
       "      62.50000762939453,\n",
       "      63.3700065612793,\n",
       "      63.48000717163086,\n",
       "      63.48000717163086,\n",
       "      63.66000747680664,\n",
       "      63.850006103515625,\n",
       "      64.08000946044922,\n",
       "      64.760009765625,\n",
       "      64.80001068115234,\n",
       "      64.81001281738281,\n",
       "      64.81001281738281\n",
       "    ],\n",
       "    \"short_factor\": [\n",
       "      1.05,\n",
       "      1.05,\n",
       "      1.05,\n",
       "      1.1,\n",
       "      1.1,\n",
       "      1.1,\n",
       "      1.2500000000000002,\n",
       "      1.2500000000000002,\n",
       "      1.4000000000000004,\n",
       "      1.4500000000000004,\n",
       "      1.5500000000000005,\n",
       "      1.8500000000000008,\n",
       "      1.9000000000000008,\n",
       "      2.000000000000001,\n",
       "      2.000000000000001,\n",
       "      2.000000000000001,\n",
       "      2.000000000000001,\n",
       "      2.000000000000001,\n",
       "      2.000000000000001,\n",
       "      2.000000000000001,\n",
       "      2.000000000000001,\n",
       "      2.000000000000001,\n",
       "      2.000000000000001,\n",
       "      2.000000000000001,\n",
       "      2.000000000000001,\n",
       "      2.000000000000001,\n",
       "      2.000000000000001,\n",
       "      2.000000000000001,\n",
       "      2.000000000000001,\n",
       "      2.000000000000001,\n",
       "      2.000000000000001,\n",
       "      2.000000000000001,\n",
       "      2.1000000000000005,\n",
       "      2.1000000000000005,\n",
       "      2.2,\n",
       "      2.3499999999999996,\n",
       "      2.3499999999999996,\n",
       "      2.3499999999999996,\n",
       "      2.3499999999999996,\n",
       "      2.3999999999999995,\n",
       "      2.3999999999999995,\n",
       "      2.6499999999999986,\n",
       "      2.6999999999999984,\n",
       "      2.8999999999999977,\n",
       "      2.9499999999999975,\n",
       "      3.049999999999997,\n",
       "      3.049999999999997,\n",
       "      3.049999999999997\n",
       "    ],\n",
       "    \"type\": \"su\"\n",
       "  },\n",
       "  \"rope_theta\": 10000.0,\n",
       "  \"sliding_window\": 131072,\n",
       "  \"tie_word_embeddings\": false,\n",
       "  \"torch_dtype\": \"bfloat16\",\n",
       "  \"transformers_version\": \"4.40.2\",\n",
       "  \"use_cache\": true,\n",
       "  \"vocab_size\": 32064\n",
       "}"
      ]
     },
     "execution_count": 8,
     "metadata": {},
     "output_type": "execute_result"
    }
   ],
   "source": [
    "model.config"
   ]
  },
  {
   "cell_type": "code",
   "execution_count": null,
   "metadata": {},
   "outputs": [],
   "source": [
    "from transformers import AutoProcessor\n",
    "processor = AutoProcessor.from_pretrained(model_id, trust_remote_code=True)"
   ]
  }
 ],
 "metadata": {
  "kernelspec": {
   "display_name": "EmotionalIntelligence",
   "language": "python",
   "name": "python3"
  },
  "language_info": {
   "codemirror_mode": {
    "name": "ipython",
    "version": 3
   },
   "file_extension": ".py",
   "mimetype": "text/x-python",
   "name": "python",
   "nbconvert_exporter": "python",
   "pygments_lexer": "ipython3",
   "version": "3.11.9"
  }
 },
 "nbformat": 4,
 "nbformat_minor": 2
}
